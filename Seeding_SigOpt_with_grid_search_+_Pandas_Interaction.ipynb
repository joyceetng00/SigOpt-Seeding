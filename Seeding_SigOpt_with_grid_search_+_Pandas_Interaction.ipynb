{
  "nbformat": 4,
  "nbformat_minor": 0,
  "metadata": {
    "colab": {
      "name": "Seeding SigOpt with grid search + Pandas Interaction.ipynb",
      "provenance": [],
      "collapsed_sections": [],
      "include_colab_link": true
    },
    "kernelspec": {
      "name": "python3",
      "display_name": "Python 3"
    }
  },
  "cells": [
    {
      "cell_type": "markdown",
      "metadata": {
        "id": "view-in-github",
        "colab_type": "text"
      },
      "source": [
        "<a href=\"https://colab.research.google.com/github/joyceetng00/hello_cats/blob/master/Seeding_SigOpt_with_grid_search_%2B_Pandas_Interaction.ipynb\" target=\"_parent\"><img src=\"https://colab.research.google.com/assets/colab-badge.svg\" alt=\"Open In Colab\"/></a>"
      ]
    },
    {
      "cell_type": "code",
      "metadata": {
        "id": "nLDwA9PcTAgn",
        "colab_type": "code",
        "outputId": "3281d946-3e0b-43cc-e6af-62a93bff5cac",
        "colab": {
          "base_uri": "https://localhost:8080/",
          "height": 190
        }
      },
      "source": [
        "! pip install sigopt"
      ],
      "execution_count": 0,
      "outputs": [
        {
          "output_type": "stream",
          "text": [
            "Collecting sigopt\n",
            "  Downloading https://files.pythonhosted.org/packages/75/9b/cae4b9997f3dbe639b0bb7bf4da3c6ead3716413f71466b0be002c5d7200/sigopt-5.0.0-py2.py3-none-any.whl\n",
            "Requirement already satisfied: requests>=2.11.1 in /usr/local/lib/python3.6/dist-packages (from sigopt) (2.21.0)\n",
            "Requirement already satisfied: chardet<3.1.0,>=3.0.2 in /usr/local/lib/python3.6/dist-packages (from requests>=2.11.1->sigopt) (3.0.4)\n",
            "Requirement already satisfied: idna<2.9,>=2.5 in /usr/local/lib/python3.6/dist-packages (from requests>=2.11.1->sigopt) (2.8)\n",
            "Requirement already satisfied: certifi>=2017.4.17 in /usr/local/lib/python3.6/dist-packages (from requests>=2.11.1->sigopt) (2019.6.16)\n",
            "Requirement already satisfied: urllib3<1.25,>=1.21.1 in /usr/local/lib/python3.6/dist-packages (from requests>=2.11.1->sigopt) (1.24.3)\n",
            "Installing collected packages: sigopt\n",
            "Successfully installed sigopt-5.0.0\n"
          ],
          "name": "stdout"
        }
      ]
    },
    {
      "cell_type": "code",
      "metadata": {
        "id": "tCSxW0xNwEc9",
        "colab_type": "code",
        "colab": {}
      },
      "source": [
        "# Run `pip install sigopt` to download our python API client\n",
        "from sigopt import Connection\n",
        "from sigopt.examples import franke_function\n",
        "\n",
        "# define our model to be the Franke Function\n",
        "def evaluate_model(assignments):\n",
        "    return franke_function(assignments['x'], assignments['y'])\n",
        "  \n",
        "# put your api_token here\n",
        "api_token = \"XXXXXXXXXXXX\"\n",
        "  \n",
        "conn = Connection(client_token=api_token)"
      ],
      "execution_count": 0,
      "outputs": []
    },
    {
      "cell_type": "code",
      "metadata": {
        "id": "a3EgvfSAQwit",
        "colab_type": "code",
        "colab": {}
      },
      "source": [
        "# Create a SigOpt experiment\n",
        "experiment = conn.experiments().create(\n",
        "    name='Seeding SigOpt with Grid Search',\n",
        "    project='sigopt-examples',\n",
        "    metrics=[dict(name='function_value', objective='maximize')],\n",
        "    parameters=[\n",
        "        dict(name='x', type='double', bounds=dict(min=0.0, max=1.0)),\n",
        "        dict(name='y', type='double', bounds=dict(min=0.0, max=1.0)),\n",
        "    ],\n",
        ")\n",
        "print(\"Explore your experiment: https://app.sigopt.com/experiment/\" + experiment.id + \"/analysis\")"
      ],
      "execution_count": 0,
      "outputs": []
    },
    {
      "cell_type": "markdown",
      "metadata": {
        "id": "oHahC460sDjb",
        "colab_type": "text"
      },
      "source": [
        "# Start with grid search and use the output to seed SigOpt\n",
        "Seed SigOpt with a user-defined GridSearch"
      ]
    },
    {
      "cell_type": "code",
      "metadata": {
        "id": "PTw3MeNLQwlB",
        "colab_type": "code",
        "colab": {}
      },
      "source": [
        "# Specifiy 25 grid search points\n",
        "xs = [0.0, 0.25, 0.5, 0.75, 1.0]\n",
        "ys = [0.0, 0.25, 0.5, 0.75, 1.0]\n",
        "\n",
        "for x in xs:\n",
        "    for y in ys:\n",
        "        # evaluate next grid search point\n",
        "        value = evaluate_model({\"x\": x, \"y\": y})\n",
        "\n",
        "        # pass grid search observation to SigOpt\n",
        "        observation =  conn.experiments(experiment.id).observations().create(\n",
        "          assignments = {\"x\": x, \"y\": y},\n",
        "          value = value,\n",
        "          no_optimize = True\n",
        "        )\n",
        "    \n",
        "# Use SigOpt to generate 25 more intelligent suggestions using info from grid to bootstrap\n",
        "for _ in range(25):\n",
        "    suggestion = conn.experiments(experiment.id).suggestions().create()\n",
        "    value = evaluate_model(suggestion.assignments)\n",
        "    conn.experiments(experiment.id).observations().create(\n",
        "        suggestion = suggestion.id,\n",
        "        value = value,\n",
        "    )\n",
        "    \n",
        "print(\"Explore your experiment: https://app.sigopt.com/experiment/\" + experiment.id + \"/analysis\")"
      ],
      "execution_count": 0,
      "outputs": []
    },
    {
      "cell_type": "markdown",
      "metadata": {
        "id": "eXz1MJxRsJXj",
        "colab_type": "text"
      },
      "source": [
        "# Import a Pandas DataFrame into SigOpt to seed an experiment with > 2 metrics\n",
        "\n",
        "Here we generate a 6 column Pandas DataFrame that represents a 2 dimensional problem (since we are evaluating the 2D franke function) with 4 output metric values. Below is example code that can be used to seed a SigOpt experiment with those 100 observations and continue intelligently searching the space from there."
      ]
    },
    {
      "cell_type": "code",
      "metadata": {
        "id": "codFCkpIsL6D",
        "colab_type": "code",
        "colab": {}
      },
      "source": [
        "# create pandas dataframe\n",
        "import numpy as np\n",
        "import pandas as pd\n",
        "random_df = pd.DataFrame(np.random.rand(100, 6), columns=list('ABCDEF'))\n"
      ],
      "execution_count": 0,
      "outputs": []
    },
    {
      "cell_type": "code",
      "metadata": {
        "id": "Wt4o_cJJPhfK",
        "colab_type": "code",
        "colab": {}
      },
      "source": [
        "# Create a SigOpt experiment\n",
        "experiment = conn.experiments().create(\n",
        "    name='Seeding SigOpt with a Dataframe',\n",
        "    project='sigopt-examples',\n",
        "    metrics=[dict(name='function_value', objective='maximize')],\n",
        "    parameters=[\n",
        "        dict(name='x', type='double', bounds=dict(min=0.0, max=1.0)),\n",
        "        dict(name='y', type='double', bounds=dict(min=0.0, max=1.0)),\n",
        "    ],\n",
        "    metadata = dict(metric2=-10000.0, metric3=-10001.0, metric4=-10002.0)\n",
        ")\n",
        "print(\"Explore your experiment: https://app.sigopt.com/experiment/\" + experiment.id + \"/analysis\")"
      ],
      "execution_count": 0,
      "outputs": []
    },
    {
      "cell_type": "code",
      "metadata": {
        "id": "WNmrGZauQc4Y",
        "colab_type": "code",
        "colab": {}
      },
      "source": [
        "# define parameter names \n",
        "suggestion_key_list = [\"x\",\"y\"]\n",
        "unoptimized_metric_key_list = [\"C\", \"D\", \"E\"]\n",
        "\n",
        "for row in random_df.iterrows():\n",
        "  \n",
        "  # get row of pandas data frame corresponding to suggestion\n",
        "  suggestion_as_list = row[1].values\n",
        "  # in this example 1 suggestion (1 row of the df) contains \n",
        "    # 2 parameters (columns A and B)\n",
        "    # 4 metrics (columns C, D, E, and F)\n",
        "      # Say that column F is the metric we care to optimize \n",
        "      # but other 3 metrics are important to track as well\n",
        "  \n",
        "  param_assignments = {}\n",
        "  for i, key in enumerate(suggestion_key_list):\n",
        "    param_assignments[key] = suggestion_as_list[i]\n",
        "    \n",
        "  background_metrics = {}\n",
        "  for i in range(len(suggestion_key_list), len(suggestion_as_list) - 1):\n",
        "    background_metrics[unoptimized_metric_key_list[i - len(suggestion_key_list)]] = suggestion_as_list[i]\n",
        "\n",
        "  # for this example, the optimized metric is stored in the last column of the dataframe\n",
        "  optimized_metric = suggestion_as_list[-1]\n",
        "  \n",
        "  # pass loaded observations to SigOpt\n",
        "  observation =  conn.experiments(experiment.id).observations().create(\n",
        "    assignments = param_assignments,\n",
        "    value = optimized_metric,\n",
        "    metadata = background_metrics,\n",
        "    no_optimize = True\n",
        "  )\n",
        "  "
      ],
      "execution_count": 0,
      "outputs": []
    },
    {
      "cell_type": "code",
      "metadata": {
        "id": "NQ5zz_PVQ4mx",
        "colab_type": "code",
        "colab": {}
      },
      "source": [
        "# evaluate metadata on parameters assignments['x'], assignments['y']\n",
        "# these will be tracked alongside the optimized metric \n",
        "\n",
        "def get_metadata(assignments):\n",
        "  return {\"C\": np.random.rand(), \"D\": np.random.rand(), \"E\": np.random.rand()}"
      ],
      "execution_count": 0,
      "outputs": []
    },
    {
      "cell_type": "code",
      "metadata": {
        "id": "YmQRtv7zNYav",
        "colab_type": "code",
        "colab": {}
      },
      "source": [
        "# Use SigOpt to generate 100 new intelligent suggestions\n",
        "for _ in range(100):\n",
        "  \n",
        "    suggestion = conn.experiments(experiment.id).suggestions().create()\n",
        "    \n",
        "    param_assignments  = suggestion.assignments\n",
        "    optimized_metric   = evaluate_model(param_assignments) \n",
        "    background_metrics = get_metadata(param_assignments)\n",
        "    \n",
        "    conn.experiments(experiment.id).observations().create(\n",
        "        suggestion = suggestion.id,\n",
        "        value      = value,\n",
        "        metadata   = background_metrics,\n",
        "    )"
      ],
      "execution_count": 0,
      "outputs": []
    },
    {
      "cell_type": "markdown",
      "metadata": {
        "id": "5qZbxq899Aue",
        "colab_type": "text"
      },
      "source": [
        "#Export SigOpt observations to Pandas Dataframe\n",
        "\n",
        "Here we will fetch all SigOpt observations through the API and store them in a Pandas Dataframe. "
      ]
    },
    {
      "cell_type": "code",
      "metadata": {
        "id": "wriqp1DJBMqO",
        "colab_type": "code",
        "colab": {}
      },
      "source": [
        "observations = conn.experiments(experiment.id).observations().fetch()"
      ],
      "execution_count": 0,
      "outputs": []
    },
    {
      "cell_type": "code",
      "metadata": {
        "id": "MF9F2Va5VgUv",
        "colab_type": "code",
        "colab": {}
      },
      "source": [
        "df = pd.DataFrame(columns=list('ABCDEF'))\n",
        "\n",
        "for i, obs in enumerate(observations.data):\n",
        "  \n",
        "  param_assignments = obs.assignments\n",
        "  background_metrics = obs.metadata\n",
        "  \n",
        "  A = param_assignments['x']\n",
        "  B = param_assignments['y']\n",
        "  C = background_metrics['C']\n",
        "  D = background_metrics['D']\n",
        "  E = background_metrics['E']\n",
        "  F = obs.value # optimized metric value\n",
        "  \n",
        "  df.loc[i] = [A, B, C, D, E, F]\n",
        "  "
      ],
      "execution_count": 0,
      "outputs": []
    }
  ]
}